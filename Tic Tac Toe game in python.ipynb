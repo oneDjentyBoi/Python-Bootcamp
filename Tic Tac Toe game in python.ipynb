{
 "cells": [
  {
   "cell_type": "code",
   "execution_count": 6,
   "metadata": {},
   "outputs": [],
   "source": [
    "from IPython.display import clear_output\n",
    "def disp(board):\n",
    "    clear_output()\n",
    "    print(board[1]+' | '+board[2]+' | '+board[3])\n",
    "    print(\"- - - - -\")\n",
    "    print(board[4]+' | '+board[5]+' | '+board[6])\n",
    "    print(\"- - - - -\")\n",
    "    print(board[7]+' | '+board[8]+' | '+board[9])"
   ]
  },
  {
   "cell_type": "code",
   "execution_count": 7,
   "metadata": {},
   "outputs": [],
   "source": [
    "def display():\n",
    "    print(\"Welcome to tic tac toe!\")\n",
    "def player_marker():\n",
    "    one=''\n",
    "    two=''\n",
    "    while one!='X' and one!='O' :\n",
    "        one=input('Player 1 do you want X or O?\\n')\n",
    "    if one=='X':\n",
    "        two='O'\n",
    "    else:\n",
    "        two='X'\n",
    "    return (one,two)"
   ]
  },
  {
   "cell_type": "code",
   "execution_count": 8,
   "metadata": {},
   "outputs": [],
   "source": [
    "def check(b):\n",
    "    c=0\n",
    "    for i in range(1,10):\n",
    "       if b[i]=='X' or b[i]=='O':\n",
    "            c+=1\n",
    "    if c==9:\n",
    "        return -1\n",
    "    if b[1]==b[2]==b[3]=='X':\n",
    "        return 1\n",
    "    elif b[4]==b[5]==b[6]=='X':\n",
    "        return 1\n",
    "    elif b[7]==b[8]==b[9]=='X':\n",
    "        return 1\n",
    "    elif b[1]==b[5]==b[9]=='X':\n",
    "        return 1\n",
    "    elif b[3]==b[5]==b[7]=='X':\n",
    "        return 1\n",
    "    elif b[1]==b[4]==b[7]=='X':\n",
    "        return 1\n",
    "    elif b[2]==b[5]==b[8]=='X':\n",
    "        return 1\n",
    "    elif b[3]==b[6]==b[9]=='X':\n",
    "        return 1\n",
    "    elif b[1]==b[2]==b[3]=='O':\n",
    "        return 2\n",
    "    elif b[4]==b[5]==b[6]=='O':\n",
    "        return 2\n",
    "    elif b[7]==b[8]==b[9]=='O':\n",
    "        return 2\n",
    "    elif b[1]==b[5]==b[9]=='O':\n",
    "        return 2\n",
    "    elif b[3]==b[5]==b[7]=='O':\n",
    "        return 2\n",
    "    elif b[1]==b[4]==b[7]=='O':\n",
    "        return 2\n",
    "    elif b[2]==b[5]==b[8]=='O':\n",
    "        return 2\n",
    "    elif b[3]==b[6]==b[9]=='O':\n",
    "        return 2"
   ]
  },
  {
   "cell_type": "code",
   "execution_count": 9,
   "metadata": {},
   "outputs": [],
   "source": [
    "def inp():\n",
    "    player1,player2=player_marker()\n",
    "    count=0\n",
    "    win=0\n",
    "    board=[' ']*10\n",
    "    disp(board)\n",
    "    while win!=1 and win!=2 and win!=-1:\n",
    "        if count%2==0:\n",
    "            i=int(input('Player 1 input cell no.'))\n",
    "            board[i]=player1\n",
    "            win=check(board)\n",
    "        else:\n",
    "            i=int(input('Player 2 input cell no.'))\n",
    "            board[i]=player2\n",
    "            win=check(board)\n",
    "        count+=1\n",
    "        disp(board)\n",
    "    return win"
   ]
  },
  {
   "cell_type": "code",
   "execution_count": 10,
   "metadata": {},
   "outputs": [
    {
     "name": "stdout",
     "output_type": "stream",
     "text": [
      "X | O | X\n",
      "- - - - -\n",
      "O | X | O\n",
      "- - - - -\n",
      "X |   |  \n",
      "player1 won\n",
      "Do you wanna continue y~n?n\n"
     ]
    }
   ],
   "source": [
    "display()\n",
    "f='y'\n",
    "while(f=='y'):\n",
    "    t=inp()\n",
    "    if t==1:\n",
    "        print(\"player1 won\")\n",
    "    elif t==2:\n",
    "        print('player2 won')\n",
    "    elif t==-1:\n",
    "        print(\"tic tac tie\")\n",
    "    f=input('Do you wanna continue y~n?')\n"
   ]
  }
 ],
 "metadata": {
  "kernelspec": {
   "display_name": "Python 3",
   "language": "python",
   "name": "python3"
  },
  "language_info": {
   "codemirror_mode": {
    "name": "ipython",
    "version": 3
   },
   "file_extension": ".py",
   "mimetype": "text/x-python",
   "name": "python",
   "nbconvert_exporter": "python",
   "pygments_lexer": "ipython3",
   "version": "3.7.0"
  }
 },
 "nbformat": 4,
 "nbformat_minor": 2
}
